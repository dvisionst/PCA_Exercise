{
  "nbformat": 4,
  "nbformat_minor": 0,
  "metadata": {
    "colab": {
      "name": "PCA_Exercise.ipynb",
      "provenance": [],
      "collapsed_sections": [],
      "authorship_tag": "ABX9TyOC4gg8fP6XCQihAYnTQzsq",
      "include_colab_link": true
    },
    "kernelspec": {
      "name": "python3",
      "display_name": "Python 3"
    },
    "language_info": {
      "name": "python"
    }
  },
  "cells": [
    {
      "cell_type": "markdown",
      "metadata": {
        "id": "view-in-github",
        "colab_type": "text"
      },
      "source": [
        "<a href=\"https://colab.research.google.com/github/dvisionst/PCA_Exercise/blob/main/PCA_Exercise.ipynb\" target=\"_parent\"><img src=\"https://colab.research.google.com/assets/colab-badge.svg\" alt=\"Open In Colab\"/></a>"
      ]
    },
    {
      "cell_type": "markdown",
      "source": [
        "# PCA Exercise\n",
        "- Jose Flores\n",
        "- 23 August 2022"
      ],
      "metadata": {
        "id": "Yuhh0TLEHtJ4"
      }
    },
    {
      "cell_type": "code",
      "source": [
        "# Imports\n",
        "import numpy as np\n",
        "import matplotlib.pyplot as plt\n",
        "import pandas as pd\n",
        "from sklearn.preprocessing import LabelEncoder, StandardScaler\n",
        "from sklearn.model_selection import train_test_split, GridSearchCV\n",
        "from sklearn.decomposition import PCA\n",
        "from sklearn.datasets import fetch_openml\n",
        "from sklearn.neighbors import KNeighborsClassifier\n",
        "from sklearn.pipeline import make_pipeline\n",
        "from sklearn.metrics import accuracy_score, recall_score, precision_score, \\\n",
        "f1_score, classification_report, ConfusionMatrixDisplay"
      ],
      "metadata": {
        "id": "XU_-aURDF5YH"
      },
      "execution_count": 1,
      "outputs": []
    },
    {
      "cell_type": "code",
      "execution_count": 2,
      "metadata": {
        "colab": {
          "base_uri": "https://localhost:8080/"
        },
        "id": "dIOi2qrAFGYP",
        "outputId": "3944bcb4-4d0c-4044-e3fa-429cc057ce40"
      },
      "outputs": [
        {
          "output_type": "execute_result",
          "data": {
            "text/plain": [
              "(70000, 784)"
            ]
          },
          "metadata": {},
          "execution_count": 2
        }
      ],
      "source": [
        "# load the dataset\n",
        "mnist = fetch_openml('mnist_784')\n",
        "# view the shape of the dataset\n",
        "mnist.data.shape\n"
      ]
    },
    {
      "cell_type": "markdown",
      "source": [
        "## 2. Prepare the Data\n",
        "\n",
        "Prepare the data for modeling.  Scale and apply PCA to your data, while retaining 95% of the variance.  Be sure not to leak information."
      ],
      "metadata": {
        "id": "73el2fI7Liko"
      }
    },
    {
      "cell_type": "code",
      "source": [
        "# Storing the features matrix and target vector in X & y variables\n",
        "X = mnist.data\n",
        "y = mnist.target\n",
        "\n",
        "# Train test split\n",
        "\n",
        "X_train, X_test, y_train, y_test = train_test_split(X, y, random_state=42)"
      ],
      "metadata": {
        "id": "O_hBXAULGoLu"
      },
      "execution_count": 3,
      "outputs": []
    },
    {
      "cell_type": "code",
      "source": [
        "# Instantiating a standard scaler\n",
        "scaler = StandardScaler()\n",
        "\n",
        "# Creating a PCA model with 95% data retention.\n",
        "pca = PCA(n_components=.95)\n"
      ],
      "metadata": {
        "id": "Oc4brXdkGJoh"
      },
      "execution_count": 4,
      "outputs": []
    },
    {
      "cell_type": "markdown",
      "source": [
        "## 3. Create 2 KNN models\n",
        "\n",
        "a. One that that uses the PCA transformed data to predict which number each image shows."
      ],
      "metadata": {
        "id": "UWhGIoMHLpSX"
      }
    },
    {
      "cell_type": "code",
      "source": [
        "# Instantiating the KNN model\n",
        "knn = KNeighborsClassifier()"
      ],
      "metadata": {
        "id": "H0UeHmLzyTYT"
      },
      "execution_count": 12,
      "outputs": []
    },
    {
      "cell_type": "code",
      "source": [
        "%%time\n",
        "# Creating a KNN model \n",
        "\n",
        "knn_pca_pipe = make_pipeline(scaler, pca, knn)\n",
        "# Fitting the model on the training data set \n",
        "knn_pca_pipe.fit(X_train, y_train)"
      ],
      "metadata": {
        "id": "UaPvu99nMF1A",
        "colab": {
          "base_uri": "https://localhost:8080/"
        },
        "outputId": "90e5f0ac-7b1f-42d2-d95d-fe6394fb78c3"
      },
      "execution_count": 22,
      "outputs": [
        {
          "output_type": "stream",
          "name": "stdout",
          "text": [
            "CPU times: user 13 s, sys: 1.3 s, total: 14.3 s\n",
            "Wall time: 8.08 s\n"
          ]
        },
        {
          "output_type": "execute_result",
          "data": {
            "text/plain": [
              "Pipeline(steps=[('standardscaler', StandardScaler()),\n",
              "                ('pca', PCA(n_components=0.95)),\n",
              "                ('kneighborsclassifier', KNeighborsClassifier())])"
            ]
          },
          "metadata": {},
          "execution_count": 22
        }
      ]
    },
    {
      "cell_type": "markdown",
      "source": [
        "b. One that uses the original data, without the PCA transformation (but, remember you still need to scale the data!)"
      ],
      "metadata": {
        "id": "5sw027bvLtvm"
      }
    },
    {
      "cell_type": "code",
      "source": [
        "%%time\n",
        "# Creating a knn model without pca and then fitting it on the training data set\n",
        "knn_pipe = make_pipeline(scaler, knn)\n",
        "knn_pipe.fit(X_train, y_train)"
      ],
      "metadata": {
        "colab": {
          "base_uri": "https://localhost:8080/"
        },
        "id": "ctrRRgL5WzGh",
        "outputId": "adb8d785-ef68-4c97-b7ac-2e6dfc540653"
      },
      "execution_count": 15,
      "outputs": [
        {
          "output_type": "stream",
          "name": "stdout",
          "text": [
            "CPU times: user 348 ms, sys: 3.09 ms, total: 351 ms\n",
            "Wall time: 352 ms\n"
          ]
        },
        {
          "output_type": "execute_result",
          "data": {
            "text/plain": [
              "Pipeline(steps=[('standardscaler', StandardScaler()),\n",
              "                ('kneighborsclassifier', KNeighborsClassifier())])"
            ]
          },
          "metadata": {},
          "execution_count": 15
        }
      ]
    },
    {
      "cell_type": "markdown",
      "source": [
        "## 4. Evaluate and compare the models\n",
        "\n",
        "Use separate cells to make predictions using each model.  Include the cell magic command: `%%time` at the top of your cells when making predictions to see which model can create predictions faster, the one trained on PCA data or the one trained on non-PCA data.  Evaluate both models using multiple appropriate metrics.\n",
        "\n",
        "\n",
        "\n",
        "'%%time' will output under the cell a count of how long it takes the code in that cell to run."
      ],
      "metadata": {
        "id": "8lCQLvg8Lvig"
      }
    },
    {
      "cell_type": "code",
      "source": [
        "# Making predictions with the PCA KNN model and displaying processing time\n",
        "%%time\n",
        "knn_pca_pred = knn_pca_pipe.predict(X_test)"
      ],
      "metadata": {
        "colab": {
          "base_uri": "https://localhost:8080/"
        },
        "id": "WVPku9G57TSx",
        "outputId": "59074722-837b-4744-d56a-3d71e60b85f7"
      },
      "execution_count": 24,
      "outputs": [
        {
          "output_type": "stream",
          "name": "stdout",
          "text": [
            "CPU times: user 43.2 s, sys: 1.11 s, total: 44.3 s\n",
            "Wall time: 29.4 s\n"
          ]
        }
      ]
    },
    {
      "cell_type": "code",
      "source": [
        "# timing the KNN only model making predictions on the test data\n",
        "%%time\n",
        "knn_pred = knn_pipe.predict(X_test)"
      ],
      "metadata": {
        "id": "j_1G8NjHY08u",
        "colab": {
          "base_uri": "https://localhost:8080/"
        },
        "outputId": "c76d9620-e03f-4a80-c5ce-689181c4056b"
      },
      "execution_count": 17,
      "outputs": [
        {
          "output_type": "stream",
          "name": "stdout",
          "text": [
            "CPU times: user 1min 18s, sys: 1.3 s, total: 1min 19s\n",
            "Wall time: 49.3 s\n"
          ]
        }
      ]
    },
    {
      "cell_type": "code",
      "source": [
        "# Checking accuracy of model without PCA\n",
        "\n",
        "knn_acc = round(knn_pipe.score(X_test, y_test), 3)\n",
        "knn_acc"
      ],
      "metadata": {
        "colab": {
          "base_uri": "https://localhost:8080/"
        },
        "id": "vI804-v9XFhX",
        "outputId": "1187c8f6-4c71-4650-8816-1c35013b57dd"
      },
      "execution_count": 16,
      "outputs": [
        {
          "output_type": "execute_result",
          "data": {
            "text/plain": [
              "0.944"
            ]
          },
          "metadata": {},
          "execution_count": 16
        }
      ]
    },
    {
      "cell_type": "code",
      "source": [
        "# Checking the accuracy of the KNN with PCA\n",
        "knn_pca_acc = round(knn_pca_pipe.score(X_test, y_test), 3)\n",
        "knn_pca_acc"
      ],
      "metadata": {
        "colab": {
          "base_uri": "https://localhost:8080/"
        },
        "id": "Sz4iUZ-I8f4N",
        "outputId": "03cd1f36-3218-4cd1-ec53-e21a86e4a5be"
      },
      "execution_count": 26,
      "outputs": [
        {
          "output_type": "execute_result",
          "data": {
            "text/plain": [
              "0.948"
            ]
          },
          "metadata": {},
          "execution_count": 26
        }
      ]
    },
    {
      "cell_type": "code",
      "source": [
        "# Creating a classification report for KNN with PCA to see \n",
        "#  how it performs in other metrics\n",
        "\n",
        "test_report_pca = classification_report(y_test, knn_pca_pred)\n",
        "print(f\"Classification Report for Testing set With PCA\\n\", test_report_pca)"
      ],
      "metadata": {
        "colab": {
          "base_uri": "https://localhost:8080/"
        },
        "id": "zWZnOn_L9URH",
        "outputId": "a3345e09-8b62-478a-bc62-6a88d79a27ae"
      },
      "execution_count": 28,
      "outputs": [
        {
          "output_type": "stream",
          "name": "stdout",
          "text": [
            "Classification Report for Testing set With PCA\n",
            "               precision    recall  f1-score   support\n",
            "\n",
            "           0       0.96      0.98      0.97      1714\n",
            "           1       0.96      0.99      0.97      1977\n",
            "           2       0.95      0.94      0.94      1761\n",
            "           3       0.94      0.94      0.94      1806\n",
            "           4       0.94      0.94      0.94      1587\n",
            "           5       0.95      0.93      0.94      1607\n",
            "           6       0.96      0.98      0.97      1761\n",
            "           7       0.94      0.93      0.94      1878\n",
            "           8       0.97      0.90      0.93      1657\n",
            "           9       0.91      0.93      0.92      1752\n",
            "\n",
            "    accuracy                           0.95     17500\n",
            "   macro avg       0.95      0.95      0.95     17500\n",
            "weighted avg       0.95      0.95      0.95     17500\n",
            "\n"
          ]
        }
      ]
    },
    {
      "cell_type": "code",
      "source": [
        "# Creating a classification report for the model without PCA to see \n",
        "#  how it performs in other metrics\n",
        "test_report = classification_report(y_test, knn_pred)\n",
        "print('Classification Report for Testing Set\\n', test_report)"
      ],
      "metadata": {
        "colab": {
          "base_uri": "https://localhost:8080/"
        },
        "id": "Fz-azuig5Qxm",
        "outputId": "350cce28-c261-4039-a103-c9915eabb490"
      },
      "execution_count": 19,
      "outputs": [
        {
          "output_type": "stream",
          "name": "stdout",
          "text": [
            "Classification Report for Testing Set\n",
            "               precision    recall  f1-score   support\n",
            "\n",
            "           0       0.96      0.98      0.97      1714\n",
            "           1       0.95      0.99      0.97      1977\n",
            "           2       0.95      0.93      0.94      1761\n",
            "           3       0.93      0.94      0.94      1806\n",
            "           4       0.94      0.93      0.94      1587\n",
            "           5       0.94      0.93      0.94      1607\n",
            "           6       0.96      0.97      0.97      1761\n",
            "           7       0.94      0.93      0.93      1878\n",
            "           8       0.97      0.89      0.93      1657\n",
            "           9       0.90      0.92      0.91      1752\n",
            "\n",
            "    accuracy                           0.94     17500\n",
            "   macro avg       0.94      0.94      0.94     17500\n",
            "weighted avg       0.94      0.94      0.94     17500\n",
            "\n"
          ]
        }
      ]
    },
    {
      "cell_type": "markdown",
      "source": [
        "## 5. Answer the following questions in text:\n",
        "\n",
        "a. Which model performed the best on the test set?\n",
        "\n",
        "b. Which model was the fastest at making predictions?"
      ],
      "metadata": {
        "id": "Jqr4-uYQL2PU"
      }
    },
    {
      "cell_type": "markdown",
      "source": [
        "- a:\n",
        "\n",
        "The KNN model with PCA performed slightly better than the model without it. \n",
        "It has an accuracy of 94.8% as opposed to 94.4%. It’s a very thin margin and it can be argued that both models perform the same. However, the model with PCA also has a better macro average in precision, recall, and f1 score. The model with PCA has 0.95 as opposed to the model without it only has 0.94 in the same macro average metrics. \n",
        "\n",
        "\n",
        "- b:\n",
        "\n",
        "The model without PCA made prediction in 49.3 seconds which lagged behind the other model. The model that does include PCA made predictions in 29.4 seconds. The model with PCA once again performed better than the model without it. "
      ],
      "metadata": {
        "id": "tBwYe6RmL_43"
      }
    },
    {
      "cell_type": "markdown",
      "source": [
        "Overall the model that used PCA was able to make predictions significantly faster than the model that did not include PCA. \n",
        "It did so without losing much in performance. In fact the model with PCA slightly outpoerformed the non-PCA model in accuracy and all metrics in the classification report. \n",
        "This shows that for this data set at least including PCA really inhances the processing speed of the model without losing predictive performance. "
      ],
      "metadata": {
        "id": "K2bk-nN-_sAQ"
      }
    }
  ]
}